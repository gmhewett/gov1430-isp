{
 "cells": [
  {
   "cell_type": "code",
   "execution_count": null,
   "metadata": {
    "collapsed": true
   },
   "outputs": [],
   "source": [
    "import pandas as pd"
   ]
  },
  {
   "cell_type": "code",
   "execution_count": null,
   "metadata": {
    "collapsed": false
   },
   "outputs": [],
   "source": [
    "demo_dtypes = {\n",
    "    'machine_id': str,\n",
    "    'hoh_most_education': float,\n",
    "    'census_region': float,\n",
    "    'household_size': float,\n",
    "    'hoh_oldest_age': float,\n",
    "    'household_income': float,\n",
    "    'children': float,\n",
    "    'racial_background': float,\n",
    "    'connection_speed': float,\n",
    "    'country_of_origin': float,\n",
    "    'zip_code': str\n",
    "}\n",
    "\n",
    "sesh_dtypes = {\n",
    "    'machine_id': str,\n",
    "    'site_session_id': str,\n",
    "    'domain_id': str,\n",
    "    'ref_domain_name': str,\n",
    "    'pages_viewed': float,\n",
    "    'duration': float,\n",
    "    'event_date': str,\n",
    "    'event_time': str,\n",
    "    'tran_flg': float,\n",
    "    'prod_category_id': str,\n",
    "    'prod_name': str,\n",
    "    'prod_qty': float,\n",
    "    'prod_totprice': float,\n",
    "    'basket_tot': float,\n",
    "    'hoh_most_education': float,\n",
    "    'census_region': float,\n",
    "    'household_size': float,\n",
    "    'hoh_oldest_age': float,\n",
    "    'household_income': float,\n",
    "    'children': float,\n",
    "    'racial_background': float,\n",
    "    'connection_speed': float,\n",
    "    'country_of_origin': float,\n",
    "    'zip_code': str,\n",
    "    'domain_name': str\n",
    "}\n",
    "\n",
    "demo = pd.read_csv('demo.csv', dtype=demo_dtypes)\n",
    "sesh = pd.read_csv('sesh.csv', dtype=sesh_dtypes)"
   ]
  },
  {
   "cell_type": "code",
   "execution_count": null,
   "metadata": {
    "collapsed": false
   },
   "outputs": [],
   "source": [
    "sesh.dtypes"
   ]
  },
  {
   "cell_type": "code",
   "execution_count": null,
   "metadata": {
    "collapsed": true
   },
   "outputs": [],
   "source": []
  }
 ],
 "metadata": {
  "kernelspec": {
   "display_name": "Python2 (gov1430)",
   "language": "python",
   "name": "gov1430"
  },
  "language_info": {
   "codemirror_mode": {
    "name": "ipython",
    "version": 2
   },
   "file_extension": ".py",
   "mimetype": "text/x-python",
   "name": "python",
   "nbconvert_exporter": "python",
   "pygments_lexer": "ipython2",
   "version": "2.7.13"
  }
 },
 "nbformat": 4,
 "nbformat_minor": 2
}
